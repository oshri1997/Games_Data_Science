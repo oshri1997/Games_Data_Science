{
 "cells": [
  {
   "cell_type": "code",
   "execution_count": 21,
   "id": "6e616a01",
   "metadata": {},
   "outputs": [],
   "source": [
    "from bs4 import BeautifulSoup  \n",
    "import requests\n",
    "import pandas as pd "
   ]
  },
  {
   "cell_type": "code",
   "execution_count": 35,
   "id": "56c89206",
   "metadata": {},
   "outputs": [],
   "source": [
    "Genres=[\"Action\",\"Action-Adventure\",\"Adventure\",\"Board+Game\",\"Education\",\"Fighting\",\"Misc\",\"MMO\",\"Party\",\"Music\",\"Platform\",\"Puzzle\",\"Racing\",\"Role-Playing\",\"Sandbox\",\"Shooter\",\"Simulation\",\"Sports\",\"Strategy\",\"Visual+Novel\"]\n",
    "\n",
    "def Get_Games_Part1(genres,style):\n",
    "    \n",
    "    Title=[] # Liste containing games titles\n",
    "    Platforms=[] # Liste containing Platforms titles\n",
    "    Publisher=[] # # Liste containing Publishers names\n",
    "    Total_sales=[] # List containing the total sales\n",
    "    NA_Sales=[] # List containing the North America sales\n",
    "    PAL_Sales=[] # List containing the PLA Region sales\n",
    "    Japan_Sales=[] # List containing the Japon sales\n",
    "    Other_sales=[] # List containing Sales of the others countries\n",
    "    Release_date=[] # List containing Release date of the games\n",
    "    Genre_game=[] # List containing the genre of the games\n",
    "    \n",
    "    for genre in genres:\n",
    "        url=f\"https://www.vgchartz.com/games/games.php?page=1&results=200&genre={genre}&order=TotalSales&ownership=Both&direction=DESC&showtotalsales=1&shownasales=1&showpalsales=1&showjapansales=1&showothersales=1&showpublisher=1&showdeveloper=0&showreleasedate=1&showlastupdate=0&showvgchartzscore=1&showcriticscore=0&showuserscore=0&showshipped=0\"\n",
    "        response=requests.get(url)\n",
    "        soup1=BeautifulSoup(response.content,\"html.parser\")\n",
    "        pages=1#int(soup1.findAll(\"span\")[-3].find(\"a\").attrs[\"href\"].split(\"=\")[1].split(\"&\")[0])   # to use all the max results pages for each genre plz change the Pages number by \"int(soup1.findAll(\"span\")[-3].find(\"a\").attrs[\"href\"].split(\"=\")[1].split(\"&\")[0])\"\n",
    "        games_tags=[] #List regrouping our games of the TAG\n",
    "        for p in range(0, pages):\n",
    "            url=f\"https://www.vgchartz.com/games/games.php?page={p}&results=200&genre={genre}&order=TotalSales&ownership=Both&direction=DESC&showtotalsales=1&shownasales=1&showpalsales=1&showjapansales=1&showothersales=1&showpublisher=1&showdeveloper=0&showreleasedate=1&showlastupdate=0&showvgchartzscore=1&showcriticscore=0&showuserscore=0&showshipped=0\"\n",
    "            response=requests.get(url)\n",
    "            soup=BeautifulSoup(response.content,\"html.parser\")\n",
    "            games_tags.extend(soup.findAll(\"tr\",{style}))\n",
    "        \n",
    "        for tag in games_tags:\n",
    "            Title.append(tag.findAll(\"td\")[2].text.strip())\n",
    "            Platforms.append(tag.findAll(\"td\")[3].find(\"img\").attrs[\"alt\"])\n",
    "            Publisher.append(tag.findAll(\"td\")[4].text.strip())\n",
    "            Total_sales.append(tag.findAll(\"td\")[6].text )\n",
    "            NA_Sales.append(tag.findAll(\"td\")[7].text)\n",
    "            PAL_Sales.append(tag.findAll(\"td\")[8].text)\n",
    "            Japan_Sales.append(tag.findAll(\"td\")[9].text )\n",
    "            Release_date.append(tag.findAll(\"td\")[11].text.strip() )\n",
    "            Genre_game.append(genre)\n",
    "            \n",
    "            #Ditionnary containing all the games   \n",
    "            dic_games={\"Title\":Title,\n",
    "                       \"Platforms\":Platforms,\n",
    "                       \"Publisher\":Publisher,\n",
    "                       \"Genre\": Genre_game,\n",
    "                       \"Total_sales\":Tota_sales,\n",
    "                       \"NA_Sales\":NA_Sales,\n",
    "                       \"PAL_Sales\":PAL_Sales,\n",
    "                       \"Japan_Sales\":Japan_Sales,\n",
    "                       \"Release_date\":Release_date}\n",
    "            print(dic_games)\n",
    "            \n",
    "    #return dic_games\n",
    "\n",
    "\n"
   ]
  },
  {
   "cell_type": "code",
   "execution_count": 36,
   "id": "f34f3d8c",
   "metadata": {},
   "outputs": [],
   "source": [
    "def df_games(dic):\n",
    "    df=pd.DataFrame(dic)\n",
    "    \n",
    "    ############################################################################ Prerpocessing ###########################################################################  \n",
    "    df[\"Total_sales\"]=df[\"Total_sales\"].apply(lambda x :x.split(\"m\")[0]) #Deleting the m of the Sales\n",
    "    df[\"NA_Sales\"]=df[\"NA_Sales\"].apply(lambda x :x.split(\"m\")[0]) #Deleting the m of the Sales\n",
    "    df[\"PAL_Sales\"]=df[\"PAL_Sales\"].apply(lambda x :x.split(\"m\")[0]) #Deleting the m of the Sales\n",
    "    df[\"Japan_Sales\"]=df[\"Japan_Sales\"].apply(lambda x :x.split(\"m\")[0]) #Deleting the m of the Sales\n",
    "    df\n",
    "    return df"
   ]
  },
  {
   "cell_type": "code",
   "execution_count": 37,
   "id": "67bbc7dc",
   "metadata": {},
   "outputs": [
    {
     "ename": "KeyError",
     "evalue": "'Total_sales'",
     "output_type": "error",
     "traceback": [
      "\u001b[1;31m---------------------------------------------------------------------------\u001b[0m",
      "\u001b[1;31mKeyError\u001b[0m                                  Traceback (most recent call last)",
      "\u001b[1;32m~\\anaconda3\\lib\\site-packages\\pandas\\core\\indexes\\base.py\u001b[0m in \u001b[0;36mget_loc\u001b[1;34m(self, key, method, tolerance)\u001b[0m\n\u001b[0;32m   3628\u001b[0m             \u001b[1;32mtry\u001b[0m\u001b[1;33m:\u001b[0m\u001b[1;33m\u001b[0m\u001b[1;33m\u001b[0m\u001b[0m\n\u001b[1;32m-> 3629\u001b[1;33m                 \u001b[1;32mreturn\u001b[0m \u001b[0mself\u001b[0m\u001b[1;33m.\u001b[0m\u001b[0m_engine\u001b[0m\u001b[1;33m.\u001b[0m\u001b[0mget_loc\u001b[0m\u001b[1;33m(\u001b[0m\u001b[0mcasted_key\u001b[0m\u001b[1;33m)\u001b[0m\u001b[1;33m\u001b[0m\u001b[1;33m\u001b[0m\u001b[0m\n\u001b[0m\u001b[0;32m   3630\u001b[0m             \u001b[1;32mexcept\u001b[0m \u001b[0mKeyError\u001b[0m \u001b[1;32mas\u001b[0m \u001b[0merr\u001b[0m\u001b[1;33m:\u001b[0m\u001b[1;33m\u001b[0m\u001b[1;33m\u001b[0m\u001b[0m\n",
      "\u001b[1;32m~\\anaconda3\\lib\\site-packages\\pandas\\_libs\\index.pyx\u001b[0m in \u001b[0;36mpandas._libs.index.IndexEngine.get_loc\u001b[1;34m()\u001b[0m\n",
      "\u001b[1;32m~\\anaconda3\\lib\\site-packages\\pandas\\_libs\\index.pyx\u001b[0m in \u001b[0;36mpandas._libs.index.IndexEngine.get_loc\u001b[1;34m()\u001b[0m\n",
      "\u001b[1;32mpandas\\_libs\\hashtable_class_helper.pxi\u001b[0m in \u001b[0;36mpandas._libs.hashtable.PyObjectHashTable.get_item\u001b[1;34m()\u001b[0m\n",
      "\u001b[1;32mpandas\\_libs\\hashtable_class_helper.pxi\u001b[0m in \u001b[0;36mpandas._libs.hashtable.PyObjectHashTable.get_item\u001b[1;34m()\u001b[0m\n",
      "\u001b[1;31mKeyError\u001b[0m: 'Total_sales'",
      "\nThe above exception was the direct cause of the following exception:\n",
      "\u001b[1;31mKeyError\u001b[0m                                  Traceback (most recent call last)",
      "\u001b[1;32m~\\AppData\\Local\\Temp\\ipykernel_22176\\2024347990.py\u001b[0m in \u001b[0;36m<module>\u001b[1;34m\u001b[0m\n\u001b[0;32m      1\u001b[0m \u001b[0mstyle_one\u001b[0m\u001b[1;33m=\u001b[0m\u001b[1;34m'\"style\":\"background-image:url(../imgs/chartBar_large.gif); height:70px\"'\u001b[0m\u001b[1;33m\u001b[0m\u001b[1;33m\u001b[0m\u001b[0m\n\u001b[0;32m      2\u001b[0m \u001b[0mstyle_two\u001b[0m\u001b[1;33m=\u001b[0m\u001b[1;34m'\"style\":\"background-image:url(../imgs/chartBar_alt_large.gif); height:70px\"'\u001b[0m\u001b[1;33m\u001b[0m\u001b[1;33m\u001b[0m\u001b[0m\n\u001b[1;32m----> 3\u001b[1;33m \u001b[0mdf_tr_1\u001b[0m\u001b[1;33m=\u001b[0m\u001b[0mdf_games\u001b[0m\u001b[1;33m(\u001b[0m\u001b[0mGet_Games_Part1\u001b[0m\u001b[1;33m(\u001b[0m\u001b[0mGenres\u001b[0m\u001b[1;33m,\u001b[0m\u001b[0mstyle_one\u001b[0m\u001b[1;33m)\u001b[0m\u001b[1;33m)\u001b[0m\u001b[1;33m\u001b[0m\u001b[1;33m\u001b[0m\u001b[0m\n\u001b[0m\u001b[0;32m      4\u001b[0m \u001b[0mdf_tr_2\u001b[0m\u001b[1;33m=\u001b[0m\u001b[0mdf_games\u001b[0m\u001b[1;33m(\u001b[0m\u001b[0mGet_Games_Part1\u001b[0m\u001b[1;33m(\u001b[0m\u001b[0mGenres\u001b[0m\u001b[1;33m,\u001b[0m\u001b[0mstyle_two\u001b[0m\u001b[1;33m)\u001b[0m\u001b[1;33m)\u001b[0m\u001b[1;33m\u001b[0m\u001b[1;33m\u001b[0m\u001b[0m\n\u001b[0;32m      5\u001b[0m \u001b[1;33m\u001b[0m\u001b[0m\n",
      "\u001b[1;32m~\\AppData\\Local\\Temp\\ipykernel_22176\\284885097.py\u001b[0m in \u001b[0;36mdf_games\u001b[1;34m(dic)\u001b[0m\n\u001b[0;32m      3\u001b[0m \u001b[1;33m\u001b[0m\u001b[0m\n\u001b[0;32m      4\u001b[0m     \u001b[1;31m############################################################################ Prerpocessing ###########################################################################\u001b[0m\u001b[1;33m\u001b[0m\u001b[1;33m\u001b[0m\u001b[0m\n\u001b[1;32m----> 5\u001b[1;33m     \u001b[0mdf\u001b[0m\u001b[1;33m[\u001b[0m\u001b[1;34m\"Total_sales\"\u001b[0m\u001b[1;33m]\u001b[0m\u001b[1;33m=\u001b[0m\u001b[0mdf\u001b[0m\u001b[1;33m[\u001b[0m\u001b[1;34m\"Total_sales\"\u001b[0m\u001b[1;33m]\u001b[0m\u001b[1;33m.\u001b[0m\u001b[0mapply\u001b[0m\u001b[1;33m(\u001b[0m\u001b[1;32mlambda\u001b[0m \u001b[0mx\u001b[0m \u001b[1;33m:\u001b[0m\u001b[0mx\u001b[0m\u001b[1;33m.\u001b[0m\u001b[0msplit\u001b[0m\u001b[1;33m(\u001b[0m\u001b[1;34m\"m\"\u001b[0m\u001b[1;33m)\u001b[0m\u001b[1;33m[\u001b[0m\u001b[1;36m0\u001b[0m\u001b[1;33m]\u001b[0m\u001b[1;33m)\u001b[0m \u001b[1;31m#Deleting the m of the Sales\u001b[0m\u001b[1;33m\u001b[0m\u001b[1;33m\u001b[0m\u001b[0m\n\u001b[0m\u001b[0;32m      6\u001b[0m     \u001b[0mdf\u001b[0m\u001b[1;33m[\u001b[0m\u001b[1;34m\"NA_Sales\"\u001b[0m\u001b[1;33m]\u001b[0m\u001b[1;33m=\u001b[0m\u001b[0mdf\u001b[0m\u001b[1;33m[\u001b[0m\u001b[1;34m\"NA_Sales\"\u001b[0m\u001b[1;33m]\u001b[0m\u001b[1;33m.\u001b[0m\u001b[0mapply\u001b[0m\u001b[1;33m(\u001b[0m\u001b[1;32mlambda\u001b[0m \u001b[0mx\u001b[0m \u001b[1;33m:\u001b[0m\u001b[0mx\u001b[0m\u001b[1;33m.\u001b[0m\u001b[0msplit\u001b[0m\u001b[1;33m(\u001b[0m\u001b[1;34m\"m\"\u001b[0m\u001b[1;33m)\u001b[0m\u001b[1;33m[\u001b[0m\u001b[1;36m0\u001b[0m\u001b[1;33m]\u001b[0m\u001b[1;33m)\u001b[0m \u001b[1;31m#Deleting the m of the Sales\u001b[0m\u001b[1;33m\u001b[0m\u001b[1;33m\u001b[0m\u001b[0m\n\u001b[0;32m      7\u001b[0m     \u001b[0mdf\u001b[0m\u001b[1;33m[\u001b[0m\u001b[1;34m\"PAL_Sales\"\u001b[0m\u001b[1;33m]\u001b[0m\u001b[1;33m=\u001b[0m\u001b[0mdf\u001b[0m\u001b[1;33m[\u001b[0m\u001b[1;34m\"PAL_Sales\"\u001b[0m\u001b[1;33m]\u001b[0m\u001b[1;33m.\u001b[0m\u001b[0mapply\u001b[0m\u001b[1;33m(\u001b[0m\u001b[1;32mlambda\u001b[0m \u001b[0mx\u001b[0m \u001b[1;33m:\u001b[0m\u001b[0mx\u001b[0m\u001b[1;33m.\u001b[0m\u001b[0msplit\u001b[0m\u001b[1;33m(\u001b[0m\u001b[1;34m\"m\"\u001b[0m\u001b[1;33m)\u001b[0m\u001b[1;33m[\u001b[0m\u001b[1;36m0\u001b[0m\u001b[1;33m]\u001b[0m\u001b[1;33m)\u001b[0m \u001b[1;31m#Deleting the m of the Sales\u001b[0m\u001b[1;33m\u001b[0m\u001b[1;33m\u001b[0m\u001b[0m\n",
      "\u001b[1;32m~\\anaconda3\\lib\\site-packages\\pandas\\core\\frame.py\u001b[0m in \u001b[0;36m__getitem__\u001b[1;34m(self, key)\u001b[0m\n\u001b[0;32m   3503\u001b[0m             \u001b[1;32mif\u001b[0m \u001b[0mself\u001b[0m\u001b[1;33m.\u001b[0m\u001b[0mcolumns\u001b[0m\u001b[1;33m.\u001b[0m\u001b[0mnlevels\u001b[0m \u001b[1;33m>\u001b[0m \u001b[1;36m1\u001b[0m\u001b[1;33m:\u001b[0m\u001b[1;33m\u001b[0m\u001b[1;33m\u001b[0m\u001b[0m\n\u001b[0;32m   3504\u001b[0m                 \u001b[1;32mreturn\u001b[0m \u001b[0mself\u001b[0m\u001b[1;33m.\u001b[0m\u001b[0m_getitem_multilevel\u001b[0m\u001b[1;33m(\u001b[0m\u001b[0mkey\u001b[0m\u001b[1;33m)\u001b[0m\u001b[1;33m\u001b[0m\u001b[1;33m\u001b[0m\u001b[0m\n\u001b[1;32m-> 3505\u001b[1;33m             \u001b[0mindexer\u001b[0m \u001b[1;33m=\u001b[0m \u001b[0mself\u001b[0m\u001b[1;33m.\u001b[0m\u001b[0mcolumns\u001b[0m\u001b[1;33m.\u001b[0m\u001b[0mget_loc\u001b[0m\u001b[1;33m(\u001b[0m\u001b[0mkey\u001b[0m\u001b[1;33m)\u001b[0m\u001b[1;33m\u001b[0m\u001b[1;33m\u001b[0m\u001b[0m\n\u001b[0m\u001b[0;32m   3506\u001b[0m             \u001b[1;32mif\u001b[0m \u001b[0mis_integer\u001b[0m\u001b[1;33m(\u001b[0m\u001b[0mindexer\u001b[0m\u001b[1;33m)\u001b[0m\u001b[1;33m:\u001b[0m\u001b[1;33m\u001b[0m\u001b[1;33m\u001b[0m\u001b[0m\n\u001b[0;32m   3507\u001b[0m                 \u001b[0mindexer\u001b[0m \u001b[1;33m=\u001b[0m \u001b[1;33m[\u001b[0m\u001b[0mindexer\u001b[0m\u001b[1;33m]\u001b[0m\u001b[1;33m\u001b[0m\u001b[1;33m\u001b[0m\u001b[0m\n",
      "\u001b[1;32m~\\anaconda3\\lib\\site-packages\\pandas\\core\\indexes\\base.py\u001b[0m in \u001b[0;36mget_loc\u001b[1;34m(self, key, method, tolerance)\u001b[0m\n\u001b[0;32m   3629\u001b[0m                 \u001b[1;32mreturn\u001b[0m \u001b[0mself\u001b[0m\u001b[1;33m.\u001b[0m\u001b[0m_engine\u001b[0m\u001b[1;33m.\u001b[0m\u001b[0mget_loc\u001b[0m\u001b[1;33m(\u001b[0m\u001b[0mcasted_key\u001b[0m\u001b[1;33m)\u001b[0m\u001b[1;33m\u001b[0m\u001b[1;33m\u001b[0m\u001b[0m\n\u001b[0;32m   3630\u001b[0m             \u001b[1;32mexcept\u001b[0m \u001b[0mKeyError\u001b[0m \u001b[1;32mas\u001b[0m \u001b[0merr\u001b[0m\u001b[1;33m:\u001b[0m\u001b[1;33m\u001b[0m\u001b[1;33m\u001b[0m\u001b[0m\n\u001b[1;32m-> 3631\u001b[1;33m                 \u001b[1;32mraise\u001b[0m \u001b[0mKeyError\u001b[0m\u001b[1;33m(\u001b[0m\u001b[0mkey\u001b[0m\u001b[1;33m)\u001b[0m \u001b[1;32mfrom\u001b[0m \u001b[0merr\u001b[0m\u001b[1;33m\u001b[0m\u001b[1;33m\u001b[0m\u001b[0m\n\u001b[0m\u001b[0;32m   3632\u001b[0m             \u001b[1;32mexcept\u001b[0m \u001b[0mTypeError\u001b[0m\u001b[1;33m:\u001b[0m\u001b[1;33m\u001b[0m\u001b[1;33m\u001b[0m\u001b[0m\n\u001b[0;32m   3633\u001b[0m                 \u001b[1;31m# If we have a listlike key, _check_indexing_error will raise\u001b[0m\u001b[1;33m\u001b[0m\u001b[1;33m\u001b[0m\u001b[0m\n",
      "\u001b[1;31mKeyError\u001b[0m: 'Total_sales'"
     ]
    }
   ],
   "source": [
    "style_one='\"style\":\"background-image:url(../imgs/chartBar_large.gif); height:70px\"'\n",
    "style_two='\"style\":\"background-image:url(../imgs/chartBar_alt_large.gif); height:70px\"'   \n",
    "df_tr_1=df_games(Get_Games_Part1(Genres,style_one))\n",
    "df_tr_2=df_games(Get_Games_Part1(Genres,style_two))\n",
    "\n",
    "\n",
    "#Concatenating the Two Dataframe into one \n",
    "df_all_games=pd.concat([df_tr_1,df_tr_2])\n",
    "df_all_games.to_csv(\"Games_Data.csv\",index=False)\n"
   ]
  }
 ],
 "metadata": {
  "kernelspec": {
   "display_name": "Python 3 (ipykernel)",
   "language": "python",
   "name": "python3"
  },
  "language_info": {
   "codemirror_mode": {
    "name": "ipython",
    "version": 3
   },
   "file_extension": ".py",
   "mimetype": "text/x-python",
   "name": "python",
   "nbconvert_exporter": "python",
   "pygments_lexer": "ipython3",
   "version": "3.9.13"
  }
 },
 "nbformat": 4,
 "nbformat_minor": 5
}
