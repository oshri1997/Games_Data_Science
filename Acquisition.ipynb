{
 "cells": [
  {
   "cell_type": "code",
   "execution_count": 1,
   "id": "6e616a01",
   "metadata": {},
   "outputs": [],
   "source": [
    "from bs4 import BeautifulSoup  \n",
    "import requests\n",
    "import pandas as pd "
   ]
  },
  {
   "cell_type": "code",
   "execution_count": 2,
   "id": "56c89206",
   "metadata": {},
   "outputs": [],
   "source": [
    "Genres=[\"Action\",\"Action-Adventure\",\"Adventure\",\"Board+Game\",\"Education\",\"Fighting\",\"Misc\",\"MMO\",\"Party\",\"Music\",\"Platform\",\"Puzzle\",\"Racing\",\"Role-Playing\",\"Sandbox\",\"Shooter\",\"Simulation\",\"Sports\",\"Strategy\",\"Visual+Novel\"]\n",
    "\n",
    "def Get_Games_Part1(genres,sfilter):\n",
    "    #list for every column\n",
    "    Title=[] \n",
    "    Platforms=[] \n",
    "    Publisher=[] \n",
    "    Total_sales=[]\n",
    "    NA_Sales=[] \n",
    "    PAL_Sales=[] \n",
    "    Japan_Sales=[]\n",
    "    Release_date=[] \n",
    "    Genre_game=[] \n",
    "    \n",
    "    for genre in genres:\n",
    "        url1=f\"https://www.vgchartz.com/games/games.php?page=1&results=200&genre={genre}&order=TotalSales&ownership=Both&direction=DESC&showtotalsales=1&shownasales=1&showpalsales=1&showjapansales=1&showothersales=1&showpublisher=1&showdeveloper=0&showreleasedate=1&showlastupdate=0&showvgchartzscore=1&showcriticscore=0&showuserscore=0&showshipped=0\"\n",
    "        html1=requests.get(url1)\n",
    "        soup1=BeautifulSoup(html1.content,\"html.parser\")\n",
    "        \n",
    "        pages=int(soup1.findAll(\"span\")[-3].find(\"a\").attrs[\"href\"].split(\"=\")[1].split(\"&\")[0]) #all pages\n",
    "\n",
    "        \n",
    "        games_tags=[] \n",
    "        for p in range(0, pages):\n",
    "            url=f\"https://www.vgchartz.com/games/games.php?page={p}&results=200&genre={genre}&order=TotalSales&ownership=Both&direction=DESC&showtotalsales=1&shownasales=1&showpalsales=1&showjapansales=1&showothersales=1&showpublisher=1&showdeveloper=0&showreleasedate=1&showlastupdate=0&showvgchartzscore=1&showcriticscore=0&showuserscore=0&showshipped=0\"\n",
    "            html=requests.get(url)\n",
    "            soup=BeautifulSoup(html.content,\"html.parser\")\n",
    "            games_tags.extend(soup.findAll(\"tr\",sfilter))\n",
    "        \n",
    "        for tag in games_tags:\n",
    "            Title.append(tag.findAll(\"td\")[2].text.strip())\n",
    "            Platforms.append(tag.findAll(\"td\")[3].find(\"img\").attrs[\"alt\"])\n",
    "            Publisher.append(tag.findAll(\"td\")[4].text.strip())\n",
    "            Total_sales.append(tag.findAll(\"td\")[6].text )\n",
    "            NA_Sales.append(tag.findAll(\"td\")[7].text)\n",
    "            PAL_Sales.append(tag.findAll(\"td\")[8].text)\n",
    "            Japan_Sales.append(tag.findAll(\"td\")[9].text )\n",
    "            Release_date.append(tag.findAll(\"td\")[11].text.strip() )\n",
    "            Genre_game.append(genre)\n",
    "            \n",
    "            #Dictionary containing all the games   \n",
    "            dic_games={\"Title\":Title,\n",
    "                       \"Platforms\":Platforms,\n",
    "                       \"Publisher\":Publisher,\n",
    "                       \"Genre\": Genre_game,\n",
    "                       \"Total_sales\":Total_sales,\n",
    "                       \"NA_Sales\":NA_Sales,\n",
    "                       \"PAL_Sales\":PAL_Sales,\n",
    "                       \"Japan_Sales\":Japan_Sales,\n",
    "                       \"Release_date\":Release_date}\n",
    "            \n",
    "    return dic_games\n",
    "\n"
   ]
  },
  {
   "cell_type": "code",
   "execution_count": 3,
   "id": "f204ae6c",
   "metadata": {},
   "outputs": [],
   "source": [
    "def df_games(dic):\n",
    "    df=pd.DataFrame(dic)\n",
    "    #Deleting the m from the coloumns\n",
    "    df[\"Total_sales\"]=df[\"Total_sales\"].apply(lambda x :x.split(\"m\")[0]) \n",
    "    df[\"NA_Sales\"]=df[\"NA_Sales\"].apply(lambda x :x.split(\"m\")[0]) \n",
    "    df[\"PAL_Sales\"]=df[\"PAL_Sales\"].apply(lambda x :x.split(\"m\")[0]) \n",
    "    df[\"Japan_Sales\"]=df[\"Japan_Sales\"].apply(lambda x :x.split(\"m\")[0])\n",
    "    \n",
    "    #Formating the date\n",
    "    df[\"Release_date\"]=df[\"Release_date\"].apply(lambda x:\" \".join(x.split(\"th\")))\n",
    "    df[\"Release_date\"]=df[\"Release_date\"].apply(lambda x:\" \".join(x.split(\"st\"))) \n",
    "    return df"
   ]
  },
  {
   "cell_type": "code",
   "execution_count": null,
   "id": "67bbc7dc",
   "metadata": {},
   "outputs": [],
   "source": [
    "sf1={\"style\":\"background-image:url(../imgs/chartBar_large.gif); height:70px\"}\n",
    "sf2={\"style\":\"background-image:url(../imgs/chartBar_alt_large.gif); height:70px\"}\n",
    "df_tr_1=df_games(Get_Games_Part1(Genres,sf1))\n",
    "df_tr_2=df_games(Get_Games_Part1(Genres,sf2))\n",
    "df_all_games=pd.concat([df_tr_1,df_tr_2])#concating two dataframes\n",
    "df_all_games.to_csv(\"Games_Data.csv\",index=False)\n",
    "#Concatenating the Two Dataframe into one \n",
    "\n"
   ]
  }
 ],
 "metadata": {
  "kernelspec": {
   "display_name": "Python 3 (ipykernel)",
   "language": "python",
   "name": "python3"
  },
  "language_info": {
   "codemirror_mode": {
    "name": "ipython",
    "version": 3
   },
   "file_extension": ".py",
   "mimetype": "text/x-python",
   "name": "python",
   "nbconvert_exporter": "python",
   "pygments_lexer": "ipython3",
   "version": "3.9.13"
  }
 },
 "nbformat": 4,
 "nbformat_minor": 5
}
